{
 "cells": [
  {
   "cell_type": "code",
   "execution_count": 1,
   "id": "4cbbe437",
   "metadata": {},
   "outputs": [],
   "source": [
    "from pyspark.sql import SparkSession\n"
   ]
  },
  {
   "cell_type": "code",
   "execution_count": 2,
   "id": "22e4a1a8",
   "metadata": {},
   "outputs": [
    {
     "name": "stdout",
     "output_type": "stream",
     "text": [
      ":: loading settings :: url = jar:file:/usr/local/lib/python3.8/site-packages/pyspark/jars/ivy-2.4.0.jar!/org/apache/ivy/core/settings/ivysettings.xml\n"
     ]
    },
    {
     "name": "stderr",
     "output_type": "stream",
     "text": [
      "Ivy Default Cache set to: /root/.ivy2/cache\n",
      "The jars for the packages stored in: /root/.ivy2/jars\n",
      "io.delta#delta-core_2.12 added as a dependency\n",
      ":: resolving dependencies :: org.apache.spark#spark-submit-parent-df265c79-bace-4c44-be87-3f5972f12c28;1.0\n",
      "\tconfs: [default]\n",
      "\tfound io.delta#delta-core_2.12;0.8.0 in central\n",
      "\tfound org.antlr#antlr4;4.7 in central\n",
      "\tfound org.antlr#antlr4-runtime;4.7 in central\n",
      "\tfound org.antlr#antlr-runtime;3.5.2 in central\n",
      "\tfound org.antlr#ST4;4.0.8 in central\n",
      "\tfound org.abego.treelayout#org.abego.treelayout.core;1.0.3 in central\n",
      "\tfound org.glassfish#javax.json;1.0.4 in central\n",
      "\tfound com.ibm.icu#icu4j;58.2 in central\n",
      ":: resolution report :: resolve 1282ms :: artifacts dl 92ms\n",
      "\t:: modules in use:\n",
      "\tcom.ibm.icu#icu4j;58.2 from central in [default]\n",
      "\tio.delta#delta-core_2.12;0.8.0 from central in [default]\n",
      "\torg.abego.treelayout#org.abego.treelayout.core;1.0.3 from central in [default]\n",
      "\torg.antlr#ST4;4.0.8 from central in [default]\n",
      "\torg.antlr#antlr-runtime;3.5.2 from central in [default]\n",
      "\torg.antlr#antlr4;4.7 from central in [default]\n",
      "\torg.antlr#antlr4-runtime;4.7 from central in [default]\n",
      "\torg.glassfish#javax.json;1.0.4 from central in [default]\n",
      "\t---------------------------------------------------------------------\n",
      "\t|                  |            modules            ||   artifacts   |\n",
      "\t|       conf       | number| search|dwnlded|evicted|| number|dwnlded|\n",
      "\t---------------------------------------------------------------------\n",
      "\t|      default     |   8   |   0   |   0   |   0   ||   8   |   0   |\n",
      "\t---------------------------------------------------------------------\n",
      ":: retrieving :: org.apache.spark#spark-submit-parent-df265c79-bace-4c44-be87-3f5972f12c28\n",
      "\tconfs: [default]\n",
      "\t0 artifacts copied, 8 already retrieved (0kB/93ms)\n",
      "21/08/19 00:09:45 WARN NativeCodeLoader: Unable to load native-hadoop library for your platform... using builtin-java classes where applicable\n",
      "Using Spark's default log4j profile: org/apache/spark/log4j-defaults.properties\n",
      "Setting default log level to \"WARN\".\n",
      "To adjust logging level use sc.setLogLevel(newLevel). For SparkR, use setLogLevel(newLevel).\n"
     ]
    }
   ],
   "source": [
    "spark = SparkSession.builder.getOrCreate()\n"
   ]
  },
  {
   "cell_type": "code",
   "execution_count": 34,
   "id": "33bed260",
   "metadata": {},
   "outputs": [
    {
     "name": "stdout",
     "output_type": "stream",
     "text": [
      "+-------+-----+----------+---------------+----+--------+\n",
      "|  aluno|curso|    cidade|     disciplina|nota|semestre|\n",
      "+-------+-----+----------+---------------+----+--------+\n",
      "|'salas'|'bio'|'campinas'|'paleontologia'| 8.5|       5|\n",
      "+-------+-----+----------+---------------+----+--------+\n",
      "only showing top 1 row\n",
      "\n"
     ]
    }
   ],
   "source": [
    "df_alunos = spark.read.format('csv').option('header', True).load('alunos.csv')\n",
    "df_disciplina = spark.read.format('csv').option('header', True).load('alunos_diciplina.csv')\n",
    "\n",
    "df_output = df_alunos.join(df_disciplina, ['aluno','curso'], 'left')\n",
    "df_output.show(1)\n"
   ]
  },
  {
   "cell_type": "code",
   "execution_count": 35,
   "id": "5b8b846c",
   "metadata": {},
   "outputs": [],
   "source": [
    "df_output = df_output.groupBy(['aluno','curso','semestre']).agg({'nota': 'mean'}).alias(\"media\")\n",
    "df_output = df_output.withColumnRenamed(\"avg(nota)\", \"Media\")\n",
    "\n",
    "# df_output.show()\n",
    "\n",
    "\n",
    "\n",
    "# grpdf = df_output \\\n",
    "#     .groupBy(temp1.datestamp) \\\n",
    "#     .max('diff') \\\n",
    "#     .select(func.col(\"max(diff)\").alias(\"maxDiff\"))"
   ]
  },
  {
   "cell_type": "code",
   "execution_count": 37,
   "id": "61dc979d",
   "metadata": {},
   "outputs": [
    {
     "name": "stderr",
     "output_type": "stream",
     "text": [
      "                                                                                \r"
     ]
    }
   ],
   "source": [
    "values = df_output.collect()"
   ]
  },
  {
   "cell_type": "code",
   "execution_count": 40,
   "id": "25c96e49",
   "metadata": {},
   "outputs": [
    {
     "data": {
      "text/plain": [
       "7.5"
      ]
     },
     "execution_count": 40,
     "metadata": {},
     "output_type": "execute_result"
    }
   ],
   "source": [
    "values[0]['Media']"
   ]
  },
  {
   "cell_type": "code",
   "execution_count": 41,
   "id": "dda55bb9",
   "metadata": {},
   "outputs": [
    {
     "data": {
      "text/plain": [
       "8.75"
      ]
     },
     "execution_count": 41,
     "metadata": {},
     "output_type": "execute_result"
    }
   ],
   "source": [
    "values[1]['Media']"
   ]
  },
  {
   "cell_type": "code",
   "execution_count": null,
   "id": "c7ed3624",
   "metadata": {},
   "outputs": [],
   "source": [
    "values = df_output.collect()\n",
    "values[0]['Media']\n",
    "\n",
    "values[1]['Media']"
   ]
  },
  {
   "cell_type": "code",
   "execution_count": null,
   "id": "5b3c2f5f",
   "metadata": {},
   "outputs": [],
   "source": [
    "\n",
    "        values = df.groupBy(['genre']).count().orderBy(['count']).collect()\n",
    "\n",
    "        self.assertEqual(2, values[0]['count'])\n",
    "        self.assertEqual(3, values[1]['count'])\n"
   ]
  },
  {
   "cell_type": "code",
   "execution_count": null,
   "id": "9d2b88d8",
   "metadata": {},
   "outputs": [],
   "source": []
  },
  {
   "cell_type": "code",
   "execution_count": null,
   "id": "98539591",
   "metadata": {},
   "outputs": [],
   "source": []
  },
  {
   "cell_type": "code",
   "execution_count": null,
   "id": "a7857e0b",
   "metadata": {},
   "outputs": [],
   "source": []
  },
  {
   "cell_type": "code",
   "execution_count": 24,
   "id": "2a18a8af",
   "metadata": {},
   "outputs": [
    {
     "name": "stderr",
     "output_type": "stream",
     "text": [
      "[Stage 97:=============================>                          (39 + 4) / 75]\r"
     ]
    },
    {
     "name": "stdout",
     "output_type": "stream",
     "text": [
      "+-------+-----+--------+-----+\n",
      "|  aluno|curso|semestre|Media|\n",
      "+-------+-----+--------+-----+\n",
      "| 'tati'|'ads'|       2|  7.5|\n",
      "|'salas'|'bio'|       5| 8.75|\n",
      "+-------+-----+--------+-----+\n",
      "\n"
     ]
    },
    {
     "name": "stderr",
     "output_type": "stream",
     "text": [
      "\r",
      "[Stage 97:============================================>           (59 + 4) / 75]\r",
      "\r",
      "                                                                                \r"
     ]
    }
   ],
   "source": [
    "df_output.show(2)"
   ]
  },
  {
   "cell_type": "code",
   "execution_count": null,
   "id": "5f740113",
   "metadata": {},
   "outputs": [],
   "source": [
    "self.assertEqual(7.5, df.collect()[0][3])\n",
    "self.assertEqual(8.75, df.collect()[1][3])"
   ]
  },
  {
   "cell_type": "code",
   "execution_count": 30,
   "id": "08aa0629",
   "metadata": {},
   "outputs": [
    {
     "name": "stderr",
     "output_type": "stream",
     "text": [
      "                                                                                \r"
     ]
    },
    {
     "ename": "AssertionError",
     "evalue": "",
     "output_type": "error",
     "traceback": [
      "\u001b[0;31m---------------------------------------------------------------------------\u001b[0m",
      "\u001b[0;31mAssertionError\u001b[0m                            Traceback (most recent call last)",
      "\u001b[0;32m/tmp/ipykernel_3169/1919680608.py\u001b[0m in \u001b[0;36m<module>\u001b[0;34m\u001b[0m\n\u001b[0;32m----> 1\u001b[0;31m \u001b[0;32massert\u001b[0m \u001b[0;36m7.5\u001b[0m \u001b[0;34m!=\u001b[0m \u001b[0mdf_output\u001b[0m\u001b[0;34m.\u001b[0m\u001b[0mcollect\u001b[0m\u001b[0;34m(\u001b[0m\u001b[0;34m)\u001b[0m\u001b[0;34m[\u001b[0m\u001b[0;36m0\u001b[0m\u001b[0;34m]\u001b[0m\u001b[0;34m[\u001b[0m\u001b[0;36m3\u001b[0m\u001b[0;34m]\u001b[0m\u001b[0;34m\u001b[0m\u001b[0;34m\u001b[0m\u001b[0m\n\u001b[0m",
      "\u001b[0;31mAssertionError\u001b[0m: "
     ]
    }
   ],
   "source": [
    "assert 7.5 != df_output.collect()[0][3]"
   ]
  },
  {
   "cell_type": "code",
   "execution_count": 32,
   "id": "c77fae8c",
   "metadata": {},
   "outputs": [
    {
     "name": "stderr",
     "output_type": "stream",
     "text": [
      "                                                                                \r"
     ]
    }
   ],
   "source": [
    "values = df_output.collect()[0][3]"
   ]
  },
  {
   "cell_type": "code",
   "execution_count": 33,
   "id": "66d93ccd",
   "metadata": {},
   "outputs": [
    {
     "data": {
      "text/plain": [
       "7.5"
      ]
     },
     "execution_count": 33,
     "metadata": {},
     "output_type": "execute_result"
    }
   ],
   "source": [
    "values"
   ]
  },
  {
   "cell_type": "code",
   "execution_count": 28,
   "id": "a5e910f1",
   "metadata": {},
   "outputs": [
    {
     "name": "stderr",
     "output_type": "stream",
     "text": [
      "                                                                                \r"
     ]
    },
    {
     "data": {
      "text/plain": [
       "8.75"
      ]
     },
     "execution_count": 28,
     "metadata": {},
     "output_type": "execute_result"
    }
   ],
   "source": [
    "df_output.collect()[1][3]"
   ]
  },
  {
   "cell_type": "code",
   "execution_count": null,
   "id": "c3e6d5fa",
   "metadata": {},
   "outputs": [],
   "source": []
  }
 ],
 "metadata": {
  "kernelspec": {
   "display_name": "Python 3 (ipykernel)",
   "language": "python",
   "name": "python3"
  },
  "language_info": {
   "codemirror_mode": {
    "name": "ipython",
    "version": 3
   },
   "file_extension": ".py",
   "mimetype": "text/x-python",
   "name": "python",
   "nbconvert_exporter": "python",
   "pygments_lexer": "ipython3",
   "version": "3.8.11"
  }
 },
 "nbformat": 4,
 "nbformat_minor": 5
}
